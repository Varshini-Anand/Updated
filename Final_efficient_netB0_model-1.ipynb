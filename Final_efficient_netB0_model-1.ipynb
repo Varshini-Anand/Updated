{
 "cells": [
  {
   "cell_type": "code",
   "execution_count": null,
   "metadata": {
    "colab": {
     "base_uri": "https://localhost:8080/"
    },
    "id": "mkFx54Ae3QtH",
    "outputId": "c74d2a22-39c6-4a0e-95c6-3d70c7cc789e"
   },
   "outputs": [
    {
     "name": "stdout",
     "output_type": "stream",
     "text": [
      "Drive already mounted at /content/drive; to attempt to forcibly remount, call drive.mount(\"/content/drive\", force_remount=True).\n"
     ]
    }
   ],
   "source": [
    "from google.colab import drive\n",
    "drive.mount('/content/drive')"
   ]
  },
  {
   "cell_type": "code",
   "execution_count": null,
   "metadata": {
    "colab": {
     "base_uri": "https://localhost:8080/"
    },
    "id": "zv1_TlJn3R0l",
    "outputId": "e1eeb0b5-e049-4410-9ba8-a4c750ecd87a"
   },
   "outputs": [
    {
     "name": "stdout",
     "output_type": "stream",
     "text": [
      "Requirement already satisfied: torch in /usr/local/lib/python3.10/dist-packages (2.5.1+cu121)\n",
      "Requirement already satisfied: torchvision in /usr/local/lib/python3.10/dist-packages (0.20.1+cu121)\n",
      "Requirement already satisfied: filelock in /usr/local/lib/python3.10/dist-packages (from torch) (3.16.1)\n",
      "Requirement already satisfied: typing-extensions>=4.8.0 in /usr/local/lib/python3.10/dist-packages (from torch) (4.12.2)\n",
      "Requirement already satisfied: networkx in /usr/local/lib/python3.10/dist-packages (from torch) (3.4.2)\n",
      "Requirement already satisfied: jinja2 in /usr/local/lib/python3.10/dist-packages (from torch) (3.1.4)\n",
      "Requirement already satisfied: fsspec in /usr/local/lib/python3.10/dist-packages (from torch) (2024.10.0)\n",
      "Requirement already satisfied: sympy==1.13.1 in /usr/local/lib/python3.10/dist-packages (from torch) (1.13.1)\n",
      "Requirement already satisfied: mpmath<1.4,>=1.1.0 in /usr/local/lib/python3.10/dist-packages (from sympy==1.13.1->torch) (1.3.0)\n",
      "Requirement already satisfied: numpy in /usr/local/lib/python3.10/dist-packages (from torchvision) (1.26.4)\n",
      "Requirement already satisfied: pillow!=8.3.*,>=5.3.0 in /usr/local/lib/python3.10/dist-packages (from torchvision) (11.0.0)\n",
      "Requirement already satisfied: MarkupSafe>=2.0 in /usr/local/lib/python3.10/dist-packages (from jinja2->torch) (3.0.2)\n",
      "Collecting efficientnet_pytorch\n",
      "  Downloading efficientnet_pytorch-0.7.1.tar.gz (21 kB)\n",
      "  Preparing metadata (setup.py) ... \u001b[?25l\u001b[?25hdone\n",
      "Requirement already satisfied: torch in /usr/local/lib/python3.10/dist-packages (from efficientnet_pytorch) (2.5.1+cu121)\n",
      "Requirement already satisfied: filelock in /usr/local/lib/python3.10/dist-packages (from torch->efficientnet_pytorch) (3.16.1)\n",
      "Requirement already satisfied: typing-extensions>=4.8.0 in /usr/local/lib/python3.10/dist-packages (from torch->efficientnet_pytorch) (4.12.2)\n",
      "Requirement already satisfied: networkx in /usr/local/lib/python3.10/dist-packages (from torch->efficientnet_pytorch) (3.4.2)\n",
      "Requirement already satisfied: jinja2 in /usr/local/lib/python3.10/dist-packages (from torch->efficientnet_pytorch) (3.1.4)\n",
      "Requirement already satisfied: fsspec in /usr/local/lib/python3.10/dist-packages (from torch->efficientnet_pytorch) (2024.10.0)\n",
      "Requirement already satisfied: sympy==1.13.1 in /usr/local/lib/python3.10/dist-packages (from torch->efficientnet_pytorch) (1.13.1)\n",
      "Requirement already satisfied: mpmath<1.4,>=1.1.0 in /usr/local/lib/python3.10/dist-packages (from sympy==1.13.1->torch->efficientnet_pytorch) (1.3.0)\n",
      "Requirement already satisfied: MarkupSafe>=2.0 in /usr/local/lib/python3.10/dist-packages (from jinja2->torch->efficientnet_pytorch) (3.0.2)\n",
      "Building wheels for collected packages: efficientnet_pytorch\n",
      "  Building wheel for efficientnet_pytorch (setup.py) ... \u001b[?25l\u001b[?25hdone\n",
      "  Created wheel for efficientnet_pytorch: filename=efficientnet_pytorch-0.7.1-py3-none-any.whl size=16424 sha256=106166e7920433d9646e956765c739e1158bb289235e004849c45b9a8b18c24e\n",
      "  Stored in directory: /root/.cache/pip/wheels/03/3f/e9/911b1bc46869644912bda90a56bcf7b960f20b5187feea3baf\n",
      "Successfully built efficientnet_pytorch\n",
      "Installing collected packages: efficientnet_pytorch\n",
      "Successfully installed efficientnet_pytorch-0.7.1\n"
     ]
    }
   ],
   "source": [
    "!pip install torch torchvision\n",
    "!pip install efficientnet_pytorch"
   ]
  },
  {
   "cell_type": "code",
   "execution_count": null,
   "metadata": {
    "colab": {
     "base_uri": "https://localhost:8080/"
    },
    "id": "L5P5iFrg3Wjf",
    "outputId": "a5498c67-05ab-44a8-9616-cc42245c8bc4"
   },
   "outputs": [
    {
     "name": "stderr",
     "output_type": "stream",
     "text": [
      "/usr/local/lib/python3.10/dist-packages/torchvision/models/_utils.py:208: UserWarning: The parameter 'pretrained' is deprecated since 0.13 and may be removed in the future, please use 'weights' instead.\n",
      "  warnings.warn(\n",
      "/usr/local/lib/python3.10/dist-packages/torchvision/models/_utils.py:223: UserWarning: Arguments other than a weight enum or `None` for 'weights' are deprecated since 0.13 and may be removed in the future. The current behavior is equivalent to passing `weights=EfficientNet_B0_Weights.IMAGENET1K_V1`. You can also use `weights=EfficientNet_B0_Weights.DEFAULT` to get the most up-to-date weights.\n",
      "  warnings.warn(msg)\n",
      "Downloading: \"https://download.pytorch.org/models/efficientnet_b0_rwightman-7f5810bc.pth\" to /root/.cache/torch/hub/checkpoints/efficientnet_b0_rwightman-7f5810bc.pth\n",
      "100%|██████████| 20.5M/20.5M [00:00<00:00, 152MB/s]\n"
     ]
    },
    {
     "name": "stdout",
     "output_type": "stream",
     "text": [
      "Epoch 1/10, Train Loss: 0.6293, Validation Loss: 0.3895, Training Accuracy: 0.7705, Validation Accuracy: 0.8500\n",
      "Epoch 2/10, Train Loss: 0.3309, Validation Loss: 0.4913, Training Accuracy: 0.8900, Validation Accuracy: 0.8425\n",
      "Epoch 3/10, Train Loss: 0.2638, Validation Loss: 0.4117, Training Accuracy: 0.9115, Validation Accuracy: 0.8625\n",
      "Epoch 4/10, Train Loss: 0.1445, Validation Loss: 0.4186, Training Accuracy: 0.9490, Validation Accuracy: 0.8850\n",
      "Epoch 5/10, Train Loss: 0.1382, Validation Loss: 0.2254, Training Accuracy: 0.9570, Validation Accuracy: 0.9325\n",
      "Epoch 6/10, Train Loss: 0.1564, Validation Loss: 0.4466, Training Accuracy: 0.9565, Validation Accuracy: 0.8525\n",
      "Epoch 7/10, Train Loss: 0.1441, Validation Loss: 0.3592, Training Accuracy: 0.9480, Validation Accuracy: 0.8800\n",
      "Epoch 8/10, Train Loss: 0.0606, Validation Loss: 0.2923, Training Accuracy: 0.9810, Validation Accuracy: 0.9250\n",
      "Epoch 9/10, Train Loss: 0.0477, Validation Loss: 0.4403, Training Accuracy: 0.9845, Validation Accuracy: 0.9075\n",
      "Epoch 10/10, Train Loss: 0.0604, Validation Loss: 0.3887, Training Accuracy: 0.9790, Validation Accuracy: 0.9225\n"
     ]
    }
   ],
   "source": [
    "import torch\n",
    "import torch.nn as nn\n",
    "import torch.optim as optim\n",
    "from torchvision import datasets, transforms, models\n",
    "from torch.utils.data import DataLoader\n",
    "\n",
    "# 1. Hyperparameters\n",
    "num_classes = 4  # Set this to the number of classes in your dataset\n",
    "batch_size = 32\n",
    "learning_rate = 0.001\n",
    "num_epochs = 10\n",
    "\n",
    "# 2. Data Transforms and Dataloaders for Training and Validation\n",
    "transform = transforms.Compose([\n",
    "    transforms.Resize((128, 128)),  # Input size for EfficientNet\n",
    "    transforms.ToTensor(),\n",
    "    transforms.Normalize(mean=[0.485, 0.456, 0.406], std=[0.229, 0.224, 0.225])\n",
    "])\n",
    "\n",
    "train_dataset = datasets.ImageFolder(root='/content/drive/MyDrive/RetinalOCT_Dataset/train', transform=transform)\n",
    "valid_dataset = datasets.ImageFolder(root='/content/drive/MyDrive/RetinalOCT_Dataset/val', transform=transform)\n",
    "\n",
    "train_loader = DataLoader(train_dataset, batch_size=batch_size, shuffle=True)\n",
    "valid_loader = DataLoader(valid_dataset, batch_size=batch_size, shuffle=False)\n",
    "\n",
    "# 3. Model, Loss, Optimizer\n",
    "model = models.efficientnet_b0(pretrained=True)  # Using EfficientNet-B0\n",
    "model.classifier[1] = nn.Linear(model.classifier[1].in_features, num_classes)  # Adjust the final layer\n",
    "\n",
    "criterion = nn.CrossEntropyLoss()\n",
    "optimizer = optim.Adam(model.parameters(), lr=learning_rate)\n",
    "\n",
    "# 4. Training Loop\n",
    "device = torch.device('cuda' if torch.cuda.is_available() else 'cpu')\n",
    "model = model.to(device)\n",
    "\n",
    "best_accuracy = 0.0\n",
    "\n",
    "for epoch in range(num_epochs):\n",
    "    model.train()\n",
    "    running_loss = 0.0\n",
    "    correct_train = 0\n",
    "    total_train = 0\n",
    "\n",
    "    for inputs, labels in train_loader:\n",
    "        inputs, labels = inputs.to(device), labels.to(device)\n",
    "\n",
    "        # Zero the parameter gradients\n",
    "        optimizer.zero_grad()\n",
    "\n",
    "        # Forward pass\n",
    "        outputs = model(inputs)\n",
    "        loss = criterion(outputs, labels)\n",
    "\n",
    "        # Backward pass and optimize\n",
    "        loss.backward()\n",
    "        optimizer.step()\n",
    "\n",
    "        running_loss += loss.item()\n",
    "\n",
    "        # Calculate training accuracy\n",
    "        _, preds = torch.max(outputs, 1)\n",
    "        correct_train += torch.sum(preds == labels.data)\n",
    "        total_train += labels.size(0)\n",
    "\n",
    "    epoch_loss = running_loss / len(train_loader)\n",
    "    epoch_accuracy = correct_train.double() / total_train\n",
    "\n",
    "    # Validation phase\n",
    "    model.eval()\n",
    "    valid_loss = 0.0\n",
    "    correct_valid = 0\n",
    "    total_valid = 0\n",
    "\n",
    "    with torch.no_grad():\n",
    "        for inputs, labels in valid_loader:\n",
    "            inputs, labels = inputs.to(device), labels.to(device)\n",
    "            outputs = model(inputs)\n",
    "            loss = criterion(outputs, labels)\n",
    "            valid_loss += loss.item()\n",
    "            _, preds = torch.max(outputs, 1)\n",
    "            correct_valid += torch.sum(preds == labels.data)\n",
    "            total_valid += labels.size(0)\n",
    "\n",
    "    epoch_valid_loss = valid_loss / len(valid_loader)\n",
    "    epoch_valid_accuracy = correct_valid.double() / total_valid\n",
    "\n",
    "    print(f'Epoch {epoch+1}/{num_epochs}, '\n",
    "          f'Train Loss: {epoch_loss:.4f}, '\n",
    "          f'Validation Loss: {epoch_valid_loss:.4f}, '\n",
    "          f'Training Accuracy: {epoch_accuracy:.4f}, '\n",
    "          f'Validation Accuracy: {epoch_valid_accuracy:.4f}')\n",
    "\n",
    "    # Save the model if it has the best validation accuracy so far\n",
    "    if epoch_valid_accuracy > best_accuracy:\n",
    "        best_accuracy = epoch_valid_accuracy\n",
    "        torch.save(model.state_dict(), '/content/drive/MyDrive/RetinalOCT_Dataset/efficientnet_best_model.pth')\n"
   ]
  },
  {
   "cell_type": "code",
   "execution_count": null,
   "metadata": {
    "colab": {
     "base_uri": "https://localhost:8080/"
    },
    "id": "jqNSmK7QFtNU",
    "outputId": "e154df3a-f30a-4e2a-8229-bdede3893a77"
   },
   "outputs": [
    {
     "name": "stdout",
     "output_type": "stream",
     "text": [
      "Activation Functions used in EfficientNet-B0:\n",
      "{'Swish (SiLU)'}\n",
      "\n",
      "Loss Function used:\n",
      "CrossEntropyLoss()\n",
      "\n",
      "Optimizer used:\n",
      "Adam (\n",
      "Parameter Group 0\n",
      "    amsgrad: False\n",
      "    betas: (0.9, 0.999)\n",
      "    capturable: False\n",
      "    differentiable: False\n",
      "    eps: 1e-08\n",
      "    foreach: None\n",
      "    fused: None\n",
      "    lr: 0.001\n",
      "    maximize: False\n",
      "    weight_decay: 0\n",
      ")\n"
     ]
    }
   ],
   "source": [
    "import torch\n",
    "import torch.nn as nn\n",
    "import torch.optim as optim\n",
    "from torchvision import models\n",
    "\n",
    "# 1. Load the EfficientNet-B0 model\n",
    "model = models.efficientnet_b0(pretrained=True)  # Pre-trained on ImageNet\n",
    "\n",
    "# 2. Modify the classifier for 4 classes\n",
    "num_classes = 4\n",
    "model.classifier[1] = nn.Linear(model.classifier[1].in_features, num_classes)\n",
    "\n",
    "# 3. Define the loss function and optimizer\n",
    "criterion = nn.CrossEntropyLoss()  # Loss function\n",
    "optimizer = optim.Adam(model.parameters(), lr=0.001)  # Optimizer\n",
    "\n",
    "# 4. Activation Functions in EfficientNet-B0\n",
    "def list_activation_functions(model):\n",
    "    activation_functions = []\n",
    "    for layer in model.modules():\n",
    "        if isinstance(layer, nn.SiLU):  # Swish (SiLU) is used in EfficientNet\n",
    "            activation_functions.append(\"Swish (SiLU)\")\n",
    "        elif isinstance(layer, nn.ReLU):\n",
    "            activation_functions.append(\"ReLU\")\n",
    "    return activation_functions\n",
    "\n",
    "# Print the components\n",
    "print(\"Activation Functions used in EfficientNet-B0:\")\n",
    "activation_functions = list_activation_functions(model)\n",
    "print(set(activation_functions))  # Display unique activation functions\n",
    "\n",
    "print(\"\\nLoss Function used:\")\n",
    "print(criterion)  # CrossEntropyLoss\n",
    "\n",
    "print(\"\\nOptimizer used:\")\n",
    "print(optimizer)  # Adam optimizer"
   ]
  },
  {
   "cell_type": "code",
   "execution_count": null,
   "metadata": {
    "colab": {
     "base_uri": "https://localhost:8080/"
    },
    "id": "PwxzxLn23j6e",
    "outputId": "52b91dc9-7095-4a28-e330-efc57dcd6fc8"
   },
   "outputs": [
    {
     "name": "stderr",
     "output_type": "stream",
     "text": [
      "/usr/local/lib/python3.10/dist-packages/torchvision/models/_utils.py:223: UserWarning: Arguments other than a weight enum or `None` for 'weights' are deprecated since 0.13 and may be removed in the future. The current behavior is equivalent to passing `weights=None`.\n",
      "  warnings.warn(msg)\n",
      "<ipython-input-5-585c2be47c50>:25: FutureWarning: You are using `torch.load` with `weights_only=False` (the current default value), which uses the default pickle module implicitly. It is possible to construct malicious pickle data which will execute arbitrary code during unpickling (See https://github.com/pytorch/pytorch/blob/main/SECURITY.md#untrusted-models for more details). In a future release, the default value for `weights_only` will be flipped to `True`. This limits the functions that could be executed during unpickling. Arbitrary objects will no longer be allowed to be loaded via this mode unless they are explicitly allowlisted by the user via `torch.serialization.add_safe_globals`. We recommend you start setting `weights_only=True` for any use case where you don't have full control of the loaded file. Please open an issue on GitHub for any issues related to this experimental feature.\n",
      "  model.load_state_dict(torch.load('/content/drive/MyDrive/RetinalOCT_Dataset/efficientnet_best_model.pth'))\n"
     ]
    },
    {
     "name": "stdout",
     "output_type": "stream",
     "text": [
      "Test Accuracy: 89.25%\n"
     ]
    }
   ],
   "source": [
    "import torch\n",
    "import torch.nn as nn\n",
    "from torchvision import datasets, transforms, models\n",
    "from torch.utils.data import DataLoader\n",
    "\n",
    "# 1. Hyperparameters\n",
    "num_classes = 4  # Set this to the number of classes in your dataset\n",
    "batch_size = 32\n",
    "\n",
    "# 2. Data Transforms and Dataloader for Testing\n",
    "transform = transforms.Compose([\n",
    "    transforms.Resize((128, 128)),  # Input size for EfficientNet\n",
    "    transforms.ToTensor(),\n",
    "    transforms.Normalize(mean=[0.485, 0.456, 0.406], std=[0.229, 0.224, 0.225])\n",
    "])\n",
    "\n",
    "test_dataset = datasets.ImageFolder(root='/content/drive/MyDrive/RetinalOCT_Dataset/test', transform=transform)\n",
    "test_loader = DataLoader(test_dataset, batch_size=batch_size, shuffle=False)\n",
    "\n",
    "# 3. Model\n",
    "model = models.efficientnet_b0(pretrained=False)  # Load the same model architecture\n",
    "model.classifier[1] = nn.Linear(model.classifier[1].in_features, num_classes)  # Adjust the final layer\n",
    "\n",
    "# Load the best model weights\n",
    "model.load_state_dict(torch.load('/content/drive/MyDrive/RetinalOCT_Dataset/efficientnet_best_model.pth'))\n",
    "model = model.to(torch.device('cuda' if torch.cuda.is_available() else 'cpu'))\n",
    "model.eval()\n",
    "\n",
    "# 4. Testing Loop\n",
    "device = torch.device('cuda' if torch.cuda.is_available() else 'cpu')\n",
    "correct = 0\n",
    "total = 0\n",
    "\n",
    "with torch.no_grad():\n",
    "    for inputs, labels in test_loader:\n",
    "        inputs, labels = inputs.to(device), labels.to(device)\n",
    "        outputs = model(inputs)\n",
    "        _, preds = torch.max(outputs.data, 1)\n",
    "        total += labels.size(0)\n",
    "        correct += torch.sum(preds == labels.data)\n",
    "\n",
    "test_accuracy = 100 * correct.double() / total\n",
    "print(f'Test Accuracy: {test_accuracy:.2f}%')\n"
   ]
  },
  {
   "cell_type": "code",
   "execution_count": null,
   "metadata": {
    "colab": {
     "base_uri": "https://localhost:8080/"
    },
    "id": "l6EHQJvOHbnP",
    "outputId": "e43ed191-2898-4ef7-d7d0-080f7afc49b2"
   },
   "outputs": [
    {
     "name": "stderr",
     "output_type": "stream",
     "text": [
      "<ipython-input-6-caed78cc1b9a>:6: FutureWarning: You are using `torch.load` with `weights_only=False` (the current default value), which uses the default pickle module implicitly. It is possible to construct malicious pickle data which will execute arbitrary code during unpickling (See https://github.com/pytorch/pytorch/blob/main/SECURITY.md#untrusted-models for more details). In a future release, the default value for `weights_only` will be flipped to `True`. This limits the functions that could be executed during unpickling. Arbitrary objects will no longer be allowed to be loaded via this mode unless they are explicitly allowlisted by the user via `torch.serialization.add_safe_globals`. We recommend you start setting `weights_only=True` for any use case where you don't have full control of the loaded file. Please open an issue on GitHub for any issues related to this experimental feature.\n",
      "  model.load_state_dict(torch.load('/content/drive/MyDrive/RetinalOCT_Dataset/efficientnet_best_model.pth', map_location=device))\n"
     ]
    }
   ],
   "source": [
    "# Load the saved model\n",
    "model = models.efficientnet_b0(pretrained=False)\n",
    "# Change num_classes to 4 to match the saved model\n",
    "num_classes = 4\n",
    "model.classifier[1] = nn.Linear(model.classifier[1].in_features, num_classes)\n",
    "model.load_state_dict(torch.load('/content/drive/MyDrive/RetinalOCT_Dataset/efficientnet_best_model.pth', map_location=device))\n",
    "model = model.to(device)"
   ]
  },
  {
   "cell_type": "code",
   "execution_count": null,
   "metadata": {
    "colab": {
     "base_uri": "https://localhost:8080/"
    },
    "id": "ADc-aD2CG2D1",
    "outputId": "0f1c65d1-0172-4ab8-f98e-d799b06993df"
   },
   "outputs": [
    {
     "name": "stderr",
     "output_type": "stream",
     "text": [
      "<ipython-input-7-f63a0f0aa092>:23: FutureWarning: You are using `torch.load` with `weights_only=False` (the current default value), which uses the default pickle module implicitly. It is possible to construct malicious pickle data which will execute arbitrary code during unpickling (See https://github.com/pytorch/pytorch/blob/main/SECURITY.md#untrusted-models for more details). In a future release, the default value for `weights_only` will be flipped to `True`. This limits the functions that could be executed during unpickling. Arbitrary objects will no longer be allowed to be loaded via this mode unless they are explicitly allowlisted by the user via `torch.serialization.add_safe_globals`. We recommend you start setting `weights_only=True` for any use case where you don't have full control of the loaded file. Please open an issue on GitHub for any issues related to this experimental feature.\n",
      "  model.load_state_dict(torch.load('/content/drive/MyDrive/RetinalOCT_Dataset/efficientnet_best_model.pth', map_location=device))\n"
     ]
    },
    {
     "name": "stdout",
     "output_type": "stream",
     "text": [
      "Predicted class: 3\n"
     ]
    }
   ],
   "source": [
    "from PIL import Image\n",
    "\n",
    "# Function to make predictions on a single image\n",
    "def predict_image(image_path, model, transform, device):\n",
    "    # Load and preprocess the image\n",
    "    image = Image.open(image_path).convert('RGB') # Convert the image to RGB\n",
    "    image = transform(image).unsqueeze(0)  # Add batch dimension\n",
    "    image = image.to(device)\n",
    "\n",
    "    # Set the model to evaluation mode\n",
    "    model.eval()\n",
    "\n",
    "    # No need to compute gradients during prediction\n",
    "    with torch.no_grad():\n",
    "        output = model(image)\n",
    "        _, predicted = torch.max(output, 1)\n",
    "\n",
    "    return predicted.item()\n",
    "\n",
    "# Load the saved model\n",
    "model = models.efficientnet_b0(pretrained=False)\n",
    "model.classifier[1] = nn.Linear(model.classifier[1].in_features, num_classes)\n",
    "model.load_state_dict(torch.load('/content/drive/MyDrive/RetinalOCT_Dataset/efficientnet_best_model.pth', map_location=device))\n",
    "model = model.to(device)\n",
    "\n",
    "# Example usage\n",
    "image_path = '/content/drive/MyDrive/RetinalOCT_Dataset/test/NORMAL/normal_test_1005.jpg'\n",
    "predicted_class = predict_image(image_path, model, transform, device)\n",
    "print(f'Predicted class: {predicted_class}')"
   ]
  },
  {
   "cell_type": "code",
   "execution_count": null,
   "metadata": {
    "colab": {
     "base_uri": "https://localhost:8080/"
    },
    "id": "yuMsjIu-h1O1",
    "outputId": "9f9e615f-2504-4697-9053-88ee99815f0f"
   },
   "outputs": [
    {
     "name": "stdout",
     "output_type": "stream",
     "text": [
      "The predicted class is: CNV\n"
     ]
    },
    {
     "name": "stderr",
     "output_type": "stream",
     "text": [
      "<ipython-input-8-51daf7df1645>:10: FutureWarning: You are using `torch.load` with `weights_only=False` (the current default value), which uses the default pickle module implicitly. It is possible to construct malicious pickle data which will execute arbitrary code during unpickling (See https://github.com/pytorch/pytorch/blob/main/SECURITY.md#untrusted-models for more details). In a future release, the default value for `weights_only` will be flipped to `True`. This limits the functions that could be executed during unpickling. Arbitrary objects will no longer be allowed to be loaded via this mode unless they are explicitly allowlisted by the user via `torch.serialization.add_safe_globals`. We recommend you start setting `weights_only=True` for any use case where you don't have full control of the loaded file. Please open an issue on GitHub for any issues related to this experimental feature.\n",
      "  model.load_state_dict(torch.load('/content/drive/MyDrive/RetinalOCT_Dataset/efficientnet_best_model.pth'))\n"
     ]
    }
   ],
   "source": [
    "import numpy as np\n",
    "import torch  # Import PyTorch instead of TensorFlow\n",
    "from torchvision import transforms, models\n",
    "from PIL import Image\n",
    "\n",
    "# Load the trained model using PyTorch\n",
    "model = models.efficientnet_b0(pretrained=False)\n",
    "num_classes = 4  # Set this to the number of classes in your dataset\n",
    "model.classifier[1] = torch.nn.Linear(model.classifier[1].in_features, num_classes)  # Adjust the final layer\n",
    "model.load_state_dict(torch.load('/content/drive/MyDrive/RetinalOCT_Dataset/efficientnet_best_model.pth'))\n",
    "device = torch.device('cuda' if torch.cuda.is_available() else 'cpu')\n",
    "model = model.to(device)\n",
    "model.eval()  # Set the model to evaluation mode\n",
    "\n",
    "\n",
    "def predict_eye_disease(image_path):\n",
    "    # Load and preprocess the image using PyTorch transforms\n",
    "    transform = transforms.Compose([\n",
    "        transforms.Resize((128, 128)),  # Resize to the input size expected by EfficientNet\n",
    "        transforms.ToTensor(),\n",
    "        transforms.Normalize(mean=[0.485, 0.456, 0.406], std=[0.229, 0.224, 0.225])\n",
    "    ])\n",
    "    img = Image.open(image_path).convert('RGB')\n",
    "    img_tensor = transform(img).unsqueeze(0).to(device)  # Add batch dimension and move to device\n",
    "\n",
    "    # Make prediction\n",
    "    with torch.no_grad():\n",
    "        outputs = model(img_tensor)\n",
    "        _, predicted_class = torch.max(outputs, 1)\n",
    "\n",
    "    # Map the prediction to class names\n",
    "    class_names = ['CNV', 'DME', 'DRUSEN', 'NORMAL']  # Update according to your dataset classes\n",
    "    result = class_names[predicted_class.item()]\n",
    "\n",
    "    return result\n",
    "\n",
    "# Example usage\n",
    "image_path = \"/content/drive/MyDrive/RetinalOCT_Dataset/train/CNV/cnv_train_1005.jpg\"\n",
    "prediction = predict_eye_disease(image_path)\n",
    "print(f\"The predicted class is: {prediction}\")"
   ]
  }
 ],
 "metadata": {
  "accelerator": "GPU",
  "colab": {
   "gpuType": "T4",
   "provenance": []
  },
  "kernelspec": {
   "display_name": "Python 3",
   "name": "python3"
  },
  "language_info": {
   "name": "python"
  }
 },
 "nbformat": 4,
 "nbformat_minor": 0
}
